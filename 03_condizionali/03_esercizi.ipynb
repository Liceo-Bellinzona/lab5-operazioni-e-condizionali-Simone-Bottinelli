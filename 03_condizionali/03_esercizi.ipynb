{
 "cells": [
  {
   "cell_type": "markdown",
   "metadata": {},
   "source": [
    "# Altezza\n",
    "\n",
    "Viene chiesto di scrivere un programma che chieda all'utente di fornire la sua altezza in centimetri. Se l'altezza è maggiore o uguale a 180 il programma deve stampare la seguente dicitura: ``Sei una persona molto alta``.\n",
    "\n",
    "Tradurre il diagramma di flusso in un codice Python che risolva il problema.\n"
   ]
  },
  {
   "cell_type": "code",
   "execution_count": 3,
   "metadata": {},
   "outputs": [
    {
     "name": "stdout",
     "output_type": "stream",
     "text": [
      "Sei una persona molto alta\n",
      "La tua altezza è di 180cm\n"
     ]
    }
   ],
   "source": [
    "altezza=int (input(\"qual'è la tua altezza (in centimetri)\"))\n",
    "\n",
    "if altezza>=180:\n",
    "    print(\"Sei una persona molto alta\")\n",
    "print(f\"La tua altezza è di {altezza}cm\")"
   ]
  },
  {
   "cell_type": "markdown",
   "metadata": {},
   "source": [
    "# Altezza 2\n",
    " Riprendere l'esercizio precedente ed aggiungere il codice che permetta al programma di scrivere ``Sei una persona di media altezza`` se l'altezza è inferiore a 180 cm.\n",
    "\n",
    " Tradurre il diagramma di flusso in un codice Python che risolva il problema."
   ]
  },
  {
   "cell_type": "code",
   "execution_count": 6,
   "metadata": {},
   "outputs": [
    {
     "name": "stdout",
     "output_type": "stream",
     "text": [
      "La tua altezza è di 120cm\n",
      "Sei una persona di media altezza\n"
     ]
    }
   ],
   "source": [
    "altezza=int (input(\"qual'è la tua altezza (in centimetri)\"))\n",
    "\n",
    "if altezza>=180:\n",
    "    print(\"Sei una persona molto alta\")\n",
    "print(f\"La tua altezza è di {altezza}cm\")\n",
    "\n",
    "if altezza<180:\n",
    "    print(\"Sei una persona di media altezza\")"
   ]
  },
  {
   "cell_type": "code",
   "execution_count": 15,
   "metadata": {},
   "outputs": [
    {
     "name": "stdout",
     "output_type": "stream",
     "text": [
      "Sei una persona di media altezza\n",
      "la tua altezza è di 170\n"
     ]
    },
    {
     "data": {
      "text/plain": [
       "170"
      ]
     },
     "execution_count": 15,
     "metadata": {},
     "output_type": "execute_result"
    }
   ],
   "source": [
    "altezza=int (input(\"qual'è la tua altezza (in centimetri)\"))\n",
    "\n",
    "if altezza>=180:\n",
    "    print(\"Sei una persona molto alta\")\n",
    "    print(f\"la tua altezza è di {altezza}\")\n",
    "else :\n",
    "    print(\"Sei una persona di media altezza\")\n",
    "    print(f\"la tua altezza è di {altezza}\")\n",
    "170\n"
   ]
  },
  {
   "cell_type": "markdown",
   "metadata": {},
   "source": [
    "# Area rettangolo\n",
    "L'area di un rettangolo è uguale alla sua base per la sua altezza. Scrivere un programma che chieda la base e l'altezza di due rettangoli e successivamente indichi quale dei due rettangoli ha l'area maggiore."
   ]
  },
  {
   "cell_type": "code",
   "execution_count": 17,
   "metadata": {},
   "outputs": [
    {
     "name": "stdout",
     "output_type": "stream",
     "text": [
      "L'area del rettangolo 1 è di 12.0\n",
      "L'area del rettangolo 2 è di 20.0\n",
      "il rettangolo 2 ha l'area più grande\n"
     ]
    }
   ],
   "source": [
    "base_1=float (input(\"qual'è la base 1\"))\n",
    "altezza_1=float (input(\"qual'è l'altezza 1\"))\n",
    "base_2=float (input(\"qual'è la base 2\"))\n",
    "altezza_2=float (input(\"qual'è l'altezza 2\"))\n",
    "\n",
    "rettangolo_1 = base_1*altezza_1\n",
    "rettangolo_2 = base_2*altezza_2\n",
    "\n",
    "print(f\"L'area del rettangolo 1 è di {rettangolo_1}\")\n",
    "print(f\"L'area del rettangolo 2 è di {rettangolo_2}\")\n",
    "\n",
    "if rettangolo_1>rettangolo_2:\n",
    "    print(\"il rettangolo 1 ha l'area più grande\")\n",
    "else:\n",
    "    print(\"il rettangolo 2 ha l'area più grande\")"
   ]
  },
  {
   "cell_type": "markdown",
   "metadata": {},
   "source": [
    "# Pari e dispari\n",
    "Scrivere un programma che chieda all'utente di indicare un numero intero. Se il numero è pari, il programma deve visualizzare: ``Il tuo numero è pari`` , se invece il numero è dispari deve visualizzare: ``Il tuo numero è dispari``."
   ]
  },
  {
   "cell_type": "markdown",
   "metadata": {},
   "source": []
  },
  {
   "cell_type": "code",
   "execution_count": 24,
   "metadata": {},
   "outputs": [
    {
     "name": "stdout",
     "output_type": "stream",
     "text": [
      "Il tuo numero è pari\n",
      "Il tuo numero è 3427543658547213783785342785324578342578234583245724523458723458\n"
     ]
    }
   ],
   "source": [
    "numero_int=int (input(\"scegli un numero intero\"))\n",
    "\n",
    "resto = numero_int%2\n",
    "\n",
    "if resto==0:\n",
    "    print(\"Il tuo numero è pari\")\n",
    "    print(f\"Il tuo numero è {numero_int}\")\n",
    "else:\n",
    "    print(\"Il tuo numero è dispari\")\n",
    "    print(f\"Il tuo numero è {numero_int}\")"
   ]
  },
  {
   "cell_type": "markdown",
   "metadata": {},
   "source": [
    "# Password\n",
    " Scrivere un programma che chieda all'utente di inserire una password a proprio piacimento. Se la password è composta da almeno 8 caratteri il programma deve visualizzare: ``La password è stata accettata`` , altrimenti ``La password inserita è troppo corta``"
   ]
  },
  {
   "cell_type": "markdown",
   "metadata": {},
   "source": []
  },
  {
   "cell_type": "code",
   "execution_count": 26,
   "metadata": {},
   "outputs": [
    {
     "name": "stdout",
     "output_type": "stream",
     "text": [
      "la tua password è troppo corta\n"
     ]
    }
   ],
   "source": [
    "password=str (input(\"inserisci un poassword\"))\n",
    "\n",
    "stringa=password\n",
    "lunghezza:int=len(password)\n",
    "\n",
    "if lunghezza>=8:\n",
    "    print(\"La tua password è accettata\")\n",
    "else:\n",
    "    print(\"la tua password è troppo corta\")\n",
    "\n"
   ]
  },
  {
   "cell_type": "code",
   "execution_count": null,
   "metadata": {},
   "outputs": [],
   "source": [
    "#stringa:str=\"ciao come stai?\"\n",
    "#lunghezza:int=len(stringa)\n",
    "\n",
    "#print(lunghezza)\n",
    "#indice=6  #Modificare questo valore per vedere il carattere corrispondente\n",
    "#stringa[indice]"
   ]
  },
  {
   "cell_type": "markdown",
   "metadata": {},
   "source": [
    "# Assegnazioni\n",
    "\n",
    "Scrivere una istruzione ``if`` che assegni 0 alla variabile ``b`` e assegni 1 alla variabile ``c``  se la variabile ``a`` è minore di 10."
   ]
  },
  {
   "cell_type": "markdown",
   "metadata": {},
   "source": []
  },
  {
   "cell_type": "markdown",
   "metadata": {},
   "source": [
    "# Assegnazioni 2\n",
    "Scrivere una istruzione ``if-else `` che assegni 0 alla variabile ``b`` se la variabile ``a`` è minore di 10. In caso contrario, l'istruzione deve assegnare 99 alla variabile ``b``."
   ]
  },
  {
   "cell_type": "markdown",
   "metadata": {},
   "source": []
  }
 ],
 "metadata": {
  "kernelspec": {
   "display_name": "Python 3",
   "language": "python",
   "name": "python3"
  },
  "language_info": {
   "codemirror_mode": {
    "name": "ipython",
    "version": 3
   },
   "file_extension": ".py",
   "mimetype": "text/x-python",
   "name": "python",
   "nbconvert_exporter": "python",
   "pygments_lexer": "ipython3",
   "version": "3.10.13"
  }
 },
 "nbformat": 4,
 "nbformat_minor": 2
}
